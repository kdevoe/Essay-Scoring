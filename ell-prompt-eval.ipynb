{
 "cells": [
  {
   "cell_type": "markdown",
   "metadata": {},
   "source": [
    "## Imports"
   ]
  },
  {
   "cell_type": "code",
   "execution_count": 93,
   "metadata": {},
   "outputs": [],
   "source": [
    "import csv\n",
    "from dotenv import load_dotenv, find_dotenv\n",
    "import matplotlib.pyplot as plt\n",
    "from openai import OpenAI\n",
    "import os\n",
    "import pandas as pd\n",
    "from sklearn.metrics import mean_squared_error\n",
    "from sklearn.model_selection import train_test_split\n",
    "from tqdm import tqdm"
   ]
  },
  {
   "cell_type": "code",
   "execution_count": 33,
   "metadata": {},
   "outputs": [],
   "source": [
    "DEFAULT_FONT = 14"
   ]
  },
  {
   "cell_type": "code",
   "execution_count": 80,
   "metadata": {},
   "outputs": [],
   "source": [
    "# Load dataset\n",
    "dataPath = './feedback-prize-english-language-learning/train.csv'\n",
    "df_all = pd.read_csv(dataPath)\n",
    "\n",
    "# Create essay average scores to simplify dataset comparisons\n",
    "categories = df_all.columns[2:8]\n",
    "predicted_columns = ['p_' + category for category in categories]\n",
    "actual_columns = ['a_' + category for category in categories]\n",
    "df_all['Average'] = df_all[categories].mean(axis=1).round(1)"
   ]
  },
  {
   "cell_type": "code",
   "execution_count": 35,
   "metadata": {},
   "outputs": [
    {
     "name": "stdout",
     "output_type": "stream",
     "text": [
      "\n",
      "Summary of Averages for each dataset:\n"
     ]
    },
    {
     "data": {
      "text/html": [
       "<div>\n",
       "<style scoped>\n",
       "    .dataframe tbody tr th:only-of-type {\n",
       "        vertical-align: middle;\n",
       "    }\n",
       "\n",
       "    .dataframe tbody tr th {\n",
       "        vertical-align: top;\n",
       "    }\n",
       "\n",
       "    .dataframe thead th {\n",
       "        text-align: right;\n",
       "    }\n",
       "</style>\n",
       "<table border=\"1\" class=\"dataframe\">\n",
       "  <thead>\n",
       "    <tr style=\"text-align: right;\">\n",
       "      <th></th>\n",
       "      <th>Train</th>\n",
       "      <th>Validate</th>\n",
       "      <th>Test</th>\n",
       "    </tr>\n",
       "  </thead>\n",
       "  <tbody>\n",
       "    <tr>\n",
       "      <th>count</th>\n",
       "      <td>3128.0</td>\n",
       "      <td>391.0</td>\n",
       "      <td>392.0</td>\n",
       "    </tr>\n",
       "    <tr>\n",
       "      <th>mean</th>\n",
       "      <td>3.1</td>\n",
       "      <td>3.1</td>\n",
       "      <td>3.1</td>\n",
       "    </tr>\n",
       "    <tr>\n",
       "      <th>std</th>\n",
       "      <td>0.6</td>\n",
       "      <td>0.5</td>\n",
       "      <td>0.6</td>\n",
       "    </tr>\n",
       "    <tr>\n",
       "      <th>min</th>\n",
       "      <td>1.0</td>\n",
       "      <td>1.0</td>\n",
       "      <td>1.4</td>\n",
       "    </tr>\n",
       "    <tr>\n",
       "      <th>25%</th>\n",
       "      <td>2.7</td>\n",
       "      <td>2.7</td>\n",
       "      <td>2.7</td>\n",
       "    </tr>\n",
       "    <tr>\n",
       "      <th>50%</th>\n",
       "      <td>3.1</td>\n",
       "      <td>3.1</td>\n",
       "      <td>3.1</td>\n",
       "    </tr>\n",
       "    <tr>\n",
       "      <th>75%</th>\n",
       "      <td>3.5</td>\n",
       "      <td>3.4</td>\n",
       "      <td>3.5</td>\n",
       "    </tr>\n",
       "    <tr>\n",
       "      <th>max</th>\n",
       "      <td>5.0</td>\n",
       "      <td>4.6</td>\n",
       "      <td>4.8</td>\n",
       "    </tr>\n",
       "  </tbody>\n",
       "</table>\n",
       "</div>"
      ],
      "text/plain": [
       "       Train  Validate  Test\n",
       "count 3128.0     391.0 392.0\n",
       "mean     3.1       3.1   3.1\n",
       "std      0.6       0.5   0.6\n",
       "min      1.0       1.0   1.4\n",
       "25%      2.7       2.7   2.7\n",
       "50%      3.1       3.1   3.1\n",
       "75%      3.5       3.4   3.5\n",
       "max      5.0       4.6   4.8"
      ]
     },
     "metadata": {},
     "output_type": "display_data"
    }
   ],
   "source": [
    "# Split data into Train, Validation and Test sets\n",
    "df_train, df_holdout = train_test_split(\n",
    "    df_all, test_size=0.2, random_state=42)\n",
    "df_val, df_test = train_test_split(\n",
    "    df_holdout, test_size=0.5, random_state=42)\n",
    "\n",
    "# Create summary of all three datasets\n",
    "train_desc = df_train['Average'].describe()\n",
    "val_desc = df_val['Average'].describe()\n",
    "test_desc = df_test['Average'].describe()\n",
    "\n",
    "summary = pd.concat([train_desc, val_desc, test_desc], axis=1)\n",
    "summary.columns = ['Train', 'Validate', 'Test']\n",
    "\n",
    "print(\"\\nSummary of Averages for each dataset:\")\n",
    "pd.set_option('display.float_format', lambda x: '%0.1f' % x)\n",
    "display(summary)"
   ]
  },
  {
   "cell_type": "markdown",
   "metadata": {},
   "source": [
    "## Generate Prompts"
   ]
  },
  {
   "cell_type": "markdown",
   "metadata": {},
   "source": [
    "Function to generate k-shot prompts from example essays and an essay to evaluate."
   ]
  },
  {
   "cell_type": "code",
   "execution_count": 114,
   "metadata": {},
   "outputs": [],
   "source": [
    "def generate_prompt(scored_essay, example_essays=[], example_scores=[]):\n",
    "\n",
    "    if len(example_essays) != len(example_scores):\n",
    "        raise ValueError(\"Number of example essays and scores provided must match\")\n",
    "\n",
    "    INSTRUCTIONS = f\"\"\"Score the following essay in these categories: cohesion, syntax, vocabulary, phraseology, grammar, conventions. \n",
    "    Return only a JSON object with category scores between 1.0 and 5.0 is 0.5 increments. Do not include newlines or any other characters.\"\"\"\n",
    "    EXAMPLE_PREFIX = f\"\"\" Here is an example essay followed by scores: \"\"\"\n",
    "    SCORED_ESSAY_PREFIX = f\"\"\" Essay to score: \"\"\"\n",
    "    CATEGORIES = categories\n",
    "\n",
    "    prompt = INSTRUCTIONS\n",
    "\n",
    "    for e_ind, example in enumerate(example_essays):\n",
    "        prompt += EXAMPLE_PREFIX\n",
    "        prompt += example\n",
    "\n",
    "        scores = \" Score: \"\n",
    "        for s_ind, score in enumerate(example_scores[e_ind]):\n",
    "            scores = scores + CATEGORIES[s_ind] + \": \" + str(score) + \", \"\n",
    "        \n",
    "        prompt += scores\n",
    "    \n",
    "    prompt += SCORED_ESSAY_PREFIX\n",
    "    prompt += scored_essay\n",
    "\n",
    "    return prompt"
   ]
  },
  {
   "cell_type": "code",
   "execution_count": 37,
   "metadata": {},
   "outputs": [
    {
     "name": "stdout",
     "output_type": "stream",
     "text": [
      "Score the following essay in these categories: cohesion, syntax, vocabulary, phraseology, grammar, conventions. \n",
      "    Return a JSON object with category scores between 1.0 and 5.0 is 0.5 increments.Here is an example essay followed by scores: Imagine someone that you know, that is trying to show you what maturity Score: cohesion: 1.0, syntax: 2.0, vocabulary: 3.0, phraseology: 4.0, grammar: 5.0, Here is an example essay followed by scores: They say that conserving energy and resources, some buissness have a four day Score: cohesion: 1.5, syntax: 2.5, vocabulary: 3.5, phraseology: 4.5, grammar: 5.0, Essay to score:  Once, I walked down the empty street during midnight. \n"
     ]
    }
   ],
   "source": [
    "test_essay1 = f\"\"\" Once, I walked down the empty street during midnight. \"\"\"\n",
    "example_1 = f\"\"\"Imagine someone that you know, that is trying to show you what maturity\"\"\"\n",
    "example_2 = f\"\"\"They say that conserving energy and resources, some buissness have a four day\"\"\"\n",
    "scores = [[1.0, 2.0, 3.0, 4.0, 5.0], [1.5, 2.5, 3.5, 4.5, 5.0]]\n",
    "prompt = generate_prompt(test_essay1, [example_1, example_2], scores)\n",
    "print(prompt)"
   ]
  },
  {
   "cell_type": "code",
   "execution_count": 38,
   "metadata": {},
   "outputs": [],
   "source": [
    "from constants import OPENAI_API_KEY\n",
    "\n",
    "client = OpenAI(\n",
    "    api_key=os.environ.get(OPENAI_API_KEY)\n",
    ")\n",
    "\n",
    "def get_completion(prompt, model=\"gpt-3.5-turbo\"):\n",
    "\n",
    "    chat_completion = client.chat.completions.create(\n",
    "        messages=[\n",
    "            {\n",
    "                \"role\": \"user\",\n",
    "                \"content\": prompt,\n",
    "            }\n",
    "        ],\n",
    "        model=model,\n",
    "    )\n",
    "\n",
    "    return chat_completion.choices[0].message.content"
   ]
  },
  {
   "cell_type": "code",
   "execution_count": 69,
   "metadata": {},
   "outputs": [],
   "source": [
    "import json\n",
    "\n",
    "def convert_json_to_list(json_input):\n",
    "    try:\n",
    "        data = json.loads(json_input)\n",
    "        values = list(data.values())\n",
    "        return values\n",
    "    except json.JSONDecodeError:\n",
    "        print(\"Invalid JSON input\")\n",
    "        return []"
   ]
  },
  {
   "cell_type": "code",
   "execution_count": 70,
   "metadata": {},
   "outputs": [
    {
     "name": "stdout",
     "output_type": "stream",
     "text": [
      "[2.0, 3.0, 2.0, 3.0, 4.0, 4.0]\n"
     ]
    }
   ],
   "source": [
    "output = get_completion(generate_prompt(test_essay1))\n",
    "\n",
    "print(convert_json_to_list(output))"
   ]
  },
  {
   "cell_type": "code",
   "execution_count": 97,
   "metadata": {},
   "outputs": [
    {
     "name": "stdout",
     "output_type": "stream",
     "text": [
      "           text_id                                          full_text  \\\n",
      "1621  7B2B2910BB90  Imagine you are going to buy some new shoes bu...   \n",
      "1204  5D693DD9978D  How will be high school different if you will ...   \n",
      "3412  EA4AED3BFE34  Some schools permit their students use cellpho...   \n",
      "291   15968BD9B40A  Some schools have programs where younger stude...   \n",
      "2988  D6504339A690  The reason its good to ask more than one perso...   \n",
      "1812  888A04678CCA  Some School districts programs want to graduat...   \n",
      "3362  E8445DB18983  Scientist Albert Eisnste sad \" imagination is ...   \n",
      "810   3EA2BA9DAB33  Well i thik that is a good idea for all the st...   \n",
      "2650  C41E40F2D803  Do you know how many careers' choices you have...   \n",
      "3506  EF455BB07922  The grow is the stage of the life on the grow-...   \n",
      "\n",
      "      cohesion  syntax  vocabulary  phraseology  grammar  conventions  Average  \n",
      "1621       2.5     2.5         3.0          2.5      3.5          3.5      2.9  \n",
      "1204       3.0     2.5         3.0          2.5      2.5          3.0      2.8  \n",
      "3412       2.5     2.5         3.0          2.5      2.0          2.5      2.5  \n",
      "291        3.0     3.0         4.0          3.0      3.5          3.0      3.2  \n",
      "2988       3.0     4.0         3.5          4.0      4.0          3.5      3.7  \n",
      "1812       2.0     3.0         2.5          2.5      2.0          2.0      2.3  \n",
      "3362       2.5     2.0         2.5          3.0      2.0          2.5      2.4  \n",
      "810        2.5     2.0         2.0          2.0      2.5          2.5      2.2  \n",
      "2650       3.5     3.0         3.5          3.5      3.5          2.5      3.2  \n",
      "3506       2.0     2.0         2.0          2.0      2.0          2.0      2.0  \n"
     ]
    }
   ],
   "source": [
    "def collect_results(filename, example_essays=[], example_scores=[]):\n",
    "    # Create file to record results if not yet created\n",
    "    if not os.path.exists(filename):\n",
    "        with open(filename, 'w') as csvfile:\n",
    "            header = ['text_id'] + actual_columns + predicted_columns\n",
    "            csv.writer(csvfile).writerow(header)\n",
    "\n",
    "    #Get the next row needed to be processed\n",
    "    with open(filename, 'r') as outfile:\n",
    "        start = len(list(csv.reader(outfile))) - 1\n",
    "\n",
    "    end = len(df_test) - 1\n",
    "\n",
    "    for idx in tqdm(range(start, end)):\n",
    "        id = df_test.iloc[idx]['text_id']\n",
    "        essay = df_test.iloc[idx]['full_text']\n",
    "        actual_scores = list(df_test.iloc[idx][categories].values)\n",
    "        predicted_scores = convert_json_to_list(\n",
    "            get_completion(\n",
    "            generate_prompt(essay, example_essays=example_essays, example_scores=example_scores)))\n",
    "\n",
    "        with open(filename, 'a') as outfile:\n",
    "            writer = csv.writer(outfile)\n",
    "            writer.writerow([id] + actual_scores + predicted_scores)\n",
    "\n",
    "print(df_test.head(10))"
   ]
  },
  {
   "cell_type": "code",
   "execution_count": 98,
   "metadata": {},
   "outputs": [
    {
     "name": "stderr",
     "output_type": "stream",
     "text": [
      "  0%|          | 0/371 [00:00<?, ?it/s]"
     ]
    },
    {
     "name": "stderr",
     "output_type": "stream",
     "text": [
      " 98%|█████████▊| 364/371 [13:35<00:18,  2.69s/it]"
     ]
    },
    {
     "name": "stdout",
     "output_type": "stream",
     "text": [
      "Invalid JSON input\n"
     ]
    },
    {
     "name": "stderr",
     "output_type": "stream",
     "text": [
      "100%|██████████| 371/371 [13:50<00:00,  2.24s/it]\n"
     ]
    }
   ],
   "source": [
    "collect_results(\"gpt_zero_shot.csv\")"
   ]
  },
  {
   "cell_type": "code",
   "execution_count": 117,
   "metadata": {},
   "outputs": [
    {
     "name": "stdout",
     "output_type": "stream",
     "text": [
      "main idea some schools district offter programs , that allow high school students to graduated in the three years of the traditional four years.\n",
      "\n",
      "may mean idea is students is coming the different countries is heart because speak different languages y different cultures is different languages the people is coming and this countries because make you future for to pass away you life, a later young people is this country because this make you future, is coming the high school graduated is so hart because not speak English non thing not auderstant nothing the class no pass the class is later people state four years, and high school because you no put a lot effort in to pawing , because you make you future . But my self three years is coming this country is so heart because not speak nothing English pass the class because i'm make may future for my mom and litter brother i'm see you graduated and this countries because is more opportunities and may fears years in the highs school pass the sol algebra 1,and so happy because pass the this sol, becuase i'm have a later problems and my family.\n",
      "\n",
      "the a later students no coming the school because work force one o more years is coming the collage the students make you future you family.     \n",
      "{\n",
      "  \"cohesion\": 1.5,\n",
      "  \"syntax\": 2.0,\n",
      "  \"vocabulary\": 1.5,\n",
      "  \"phraseology\": 2.0,\n",
      "  \"grammar\": 2.0,\n",
      "  \"conventions\": 2.0\n",
      "}\n",
      "[1.5, 2.0, 1.5, 2.0, 2.0, 2.0]\n"
     ]
    }
   ],
   "source": [
    "def get_individual_score(text_id):\n",
    "    target_text = df_test['full_text'][df_test['text_id'] == text_id]\n",
    "    scores = get_completion(generate_prompt(target_text.values[0]))\n",
    "    print(convert_json_to_list(scores))"
   ]
  },
  {
   "cell_type": "code",
   "execution_count": 125,
   "metadata": {},
   "outputs": [
    {
     "name": "stdout",
     "output_type": "stream",
     "text": [
      "text_id                                             0D5DA97CCEAE\n",
      "full_text      I agree with Emerson's statement, about indivi...\n",
      "cohesion                                                     3.0\n",
      "syntax                                                       3.5\n",
      "vocabulary                                                   3.0\n",
      "phraseology                                                  3.0\n",
      "grammar                                                      2.5\n",
      "conventions                                                  3.0\n",
      "Average                                                      3.0\n",
      "Name: 175, dtype: object\n",
      "('0D5DA97CCEAE', \"I agree with Emerson's statement, about individuality because is something that you can try and be better person in the world. First thing if you do yours own thing by yourself is something like amazing for the world, because don't depend of nobody else. I think trying something to yourself is how we learn more. And is the pride of the family, and the world to see that you trying and trying for to be something better of life. I think is no hard to try anything for to be a better person in life. I always wish better accomplish to others persons in all world.\\n\\nIs like a example studying gave a good benefitsfor to be a better person. Is something that you try for to be pride of the world. When you going to school don't waste the time, in school. Is the pride for us school have a good future for us. When you do all things by yourself is an pride, for yourself. Graduate from school is something greatest accomplisment anybody can do it for yourself this is an pride, that everybody want to have. If we don't never to try something never going to know about the things, that way we need to try to do anything. Maybe something that we don't want to try can be a greatest accomplisment that we can have. Is very important to try because we going to know about it. It something that in the future can help and for the world and family too. Greatest accomplisment can be a little thing but, if you do by yourself is a pride for you it does't matter, what type of thing it is. Family always are going to be pride of it. Opportunities for to do things always can have to yourself.\\n\\nGreatest Accomplishment mean that you can do it like going to university for a better life is something greatest accomplisment that can do. I always going to give greatest accomplisments to other persons. Because I always want to see better to others persons accomplish their dreams. Some people they don't greatest accomplisment maybe don't find somebody to wish their dreams. I think is something, like felt big person, how to make greatest accomplisment to othes persons and then to see that they can do it. \", array([3.0, 3.5, 3.0, 3.0, 2.5, 3.0], dtype=object))\n"
     ]
    }
   ],
   "source": [
    "def get_example(target, df):\n",
    "    #closest_value = df['Average'].min(key=lambda x: abs(x - target))\n",
    "    #idx = df[df['Average'] == closest_value].index[0]\n",
    "    example = df.iloc[(df['Average'] - target).abs().argmin()]\n",
    "    print(example)\n",
    "    return example['text_id'], example['full_text'], example[categories].values\n",
    "\n",
    "print(get_example(3, df_train))"
   ]
  },
  {
   "cell_type": "code",
   "execution_count": null,
   "metadata": {},
   "outputs": [],
   "source": [
    "def find_closest_value_index(df, column, target):\n",
    "    closest_value = df[column].min(key=lambda x: abs(x - target))\n",
    "    closest_index = df[df[column] == closest_value].index[0]\n",
    "    return closest_index\n"
   ]
  },
  {
   "cell_type": "code",
   "execution_count": 87,
   "metadata": {},
   "outputs": [],
   "source": [
    "# Function to calculate loss\n",
    "def analyze_results(filename):\n",
    "\n",
    "    MIN_VALUE = 1\n",
    "    MAX_VALUE = 5\n",
    "    \n",
    "    df = pd.read_csv(filename)\n",
    "\n",
    "    df['p_average'] = df[predicted_columns].mean(axis=1)\n",
    "    df['a_average'] = df[actual_columns].mean(axis=1)\n",
    "\n",
    "    y_true = df[actual_columns]\n",
    "    y_pred = df[predicted_columns]\n",
    "\n",
    "    RMSE = mean_squared_error(y_true, y_pred, squared=False)\n",
    "\n",
    "    # Plot average actual vs predicitons\n",
    "    plt.scatter(df['a_average'], df['p_average'])\n",
    "    plt.plot([MIN_VALUE, MAX_VALUE], [MIN_VALUE, MAX_VALUE], color='red')\n",
    "    plt.legend(['Predictions', 'Perfect Correlation'])\n",
    "    plt.title(filename.split('.')[0] + ' Predicted vs. Actual Average Scores')\n",
    "    plt.show()\n",
    "\n",
    "    return RMSE\n",
    "\n",
    "# Function to graph and compare results"
   ]
  },
  {
   "cell_type": "code",
   "execution_count": 118,
   "metadata": {},
   "outputs": [
    {
     "data": {
      "image/png": "[encoded data removed]",
      "text/plain": [
       "<Figure size 640x480 with 1 Axes>"
      ]
     },
     "metadata": {},
     "output_type": "display_data"
    },
    {
     "name": "stdout",
     "output_type": "stream",
     "text": [
      "0.7339374597510013\n"
     ]
    }
   ],
   "source": [
    "print(analyze_results(\"gpt_zero_shot.csv\"))"
   ]
  },
  {
   "cell_type": "code",
   "execution_count": 44,
   "metadata": {},
   "outputs": [
    {
     "data": {
      "text/plain": [
       "'{\"cohesion\": 3.0, \"syntax\": 3.5, \"vocabulary\": 3.0, \"phraseology\": 3.0, \"grammar\": 4.0, \"conventions\": 4.0}'"
      ]
     },
     "execution_count": 44,
     "metadata": {},
     "output_type": "execute_result"
    }
   ],
   "source": [
    "get_completion(generate_prompt(test_essay1))"
   ]
  }
 ],
 "metadata": {
  "kernelspec": {
   "display_name": "env",
   "language": "python",
   "name": "python3"
  },
  "language_info": {
   "codemirror_mode": {
    "name": "ipython",
    "version": 3
   },
   "file_extension": ".py",
   "mimetype": "text/x-python",
   "name": "python",
   "nbconvert_exporter": "python",
   "pygments_lexer": "ipython3",
   "version": "3.10.6"
  }
 },
 "nbformat": 4,
 "nbformat_minor": 2
}
