{
 "cells": [
  {
   "cell_type": "markdown",
   "metadata": {},
   "source": [
    "## Imports"
   ]
  },
  {
   "cell_type": "code",
   "execution_count": 11,
   "metadata": {},
   "outputs": [],
   "source": [
    "from dotenv import load_dotenv, find_dotenv\n",
    "import matplotlib.pyplot as plt\n",
    "from openai import OpenAI\n",
    "import os\n",
    "import pandas as pd\n",
    "from sklearn.model_selection import train_test_split"
   ]
  },
  {
   "cell_type": "code",
   "execution_count": 12,
   "metadata": {},
   "outputs": [],
   "source": [
    "DEFAULT_FONT = 14"
   ]
  },
  {
   "cell_type": "code",
   "execution_count": 13,
   "metadata": {},
   "outputs": [],
   "source": [
    "# Load dataset\n",
    "dataPath = './feedback-prize-english-language-learning/train.csv'\n",
    "df_all = pd.read_csv(dataPath)\n",
    "\n",
    "# Create essay average scores to simplify dataset comparisons\n",
    "categories = df_all.columns[2:8]\n",
    "df_all['Average'] = df_all[categories].mean(axis=1).round(1)"
   ]
  },
  {
   "cell_type": "code",
   "execution_count": 14,
   "metadata": {},
   "outputs": [
    {
     "name": "stdout",
     "output_type": "stream",
     "text": [
      "\n",
      "Summary of Averages for each dataset:\n"
     ]
    },
    {
     "data": {
      "text/html": [
       "<div>\n",
       "<style scoped>\n",
       "    .dataframe tbody tr th:only-of-type {\n",
       "        vertical-align: middle;\n",
       "    }\n",
       "\n",
       "    .dataframe tbody tr th {\n",
       "        vertical-align: top;\n",
       "    }\n",
       "\n",
       "    .dataframe thead th {\n",
       "        text-align: right;\n",
       "    }\n",
       "</style>\n",
       "<table border=\"1\" class=\"dataframe\">\n",
       "  <thead>\n",
       "    <tr style=\"text-align: right;\">\n",
       "      <th></th>\n",
       "      <th>Train</th>\n",
       "      <th>Validate</th>\n",
       "      <th>Test</th>\n",
       "    </tr>\n",
       "  </thead>\n",
       "  <tbody>\n",
       "    <tr>\n",
       "      <th>count</th>\n",
       "      <td>3128.0</td>\n",
       "      <td>391.0</td>\n",
       "      <td>392.0</td>\n",
       "    </tr>\n",
       "    <tr>\n",
       "      <th>mean</th>\n",
       "      <td>3.1</td>\n",
       "      <td>3.1</td>\n",
       "      <td>3.1</td>\n",
       "    </tr>\n",
       "    <tr>\n",
       "      <th>std</th>\n",
       "      <td>0.6</td>\n",
       "      <td>0.5</td>\n",
       "      <td>0.6</td>\n",
       "    </tr>\n",
       "    <tr>\n",
       "      <th>min</th>\n",
       "      <td>1.0</td>\n",
       "      <td>1.0</td>\n",
       "      <td>1.4</td>\n",
       "    </tr>\n",
       "    <tr>\n",
       "      <th>25%</th>\n",
       "      <td>2.7</td>\n",
       "      <td>2.7</td>\n",
       "      <td>2.7</td>\n",
       "    </tr>\n",
       "    <tr>\n",
       "      <th>50%</th>\n",
       "      <td>3.1</td>\n",
       "      <td>3.1</td>\n",
       "      <td>3.1</td>\n",
       "    </tr>\n",
       "    <tr>\n",
       "      <th>75%</th>\n",
       "      <td>3.5</td>\n",
       "      <td>3.4</td>\n",
       "      <td>3.5</td>\n",
       "    </tr>\n",
       "    <tr>\n",
       "      <th>max</th>\n",
       "      <td>5.0</td>\n",
       "      <td>4.6</td>\n",
       "      <td>4.8</td>\n",
       "    </tr>\n",
       "  </tbody>\n",
       "</table>\n",
       "</div>"
      ],
      "text/plain": [
       "       Train  Validate  Test\n",
       "count 3128.0     391.0 392.0\n",
       "mean     3.1       3.1   3.1\n",
       "std      0.6       0.5   0.6\n",
       "min      1.0       1.0   1.4\n",
       "25%      2.7       2.7   2.7\n",
       "50%      3.1       3.1   3.1\n",
       "75%      3.5       3.4   3.5\n",
       "max      5.0       4.6   4.8"
      ]
     },
     "metadata": {},
     "output_type": "display_data"
    }
   ],
   "source": [
    "# Split data into Train, Validation and Test sets\n",
    "df_train, df_holdout = train_test_split(\n",
    "    df_all, test_size=0.2, random_state=42)\n",
    "df_val, df_test = train_test_split(\n",
    "    df_holdout, test_size=0.5, random_state=42)\n",
    "\n",
    "# Create summary of all three datasets\n",
    "train_desc = df_train['Average'].describe()\n",
    "val_desc = df_val['Average'].describe()\n",
    "test_desc = df_test['Average'].describe()\n",
    "\n",
    "summary = pd.concat([train_desc, val_desc, test_desc], axis=1)\n",
    "summary.columns = ['Train', 'Validate', 'Test']\n",
    "\n",
    "print(\"\\nSummary of Averages for each dataset:\")\n",
    "pd.set_option('display.float_format', lambda x: '%0.1f' % x)\n",
    "display(summary)"
   ]
  },
  {
   "cell_type": "markdown",
   "metadata": {},
   "source": [
    "## Generate Prompts"
   ]
  },
  {
   "cell_type": "markdown",
   "metadata": {},
   "source": [
    "Function to generate k-shot prompts from example essays and an essay to evaluate."
   ]
  },
  {
   "cell_type": "code",
   "execution_count": 15,
   "metadata": {},
   "outputs": [],
   "source": [
    "def generate_prompt(scored_essay, example_essays=[], example_scores=[]):\n",
    "\n",
    "    if len(example_essays) != len(example_scores):\n",
    "        raise ValueError(\"Number of example essays and scores provided must match\")\n",
    "\n",
    "    INSTRUCTIONS = f\"\"\"Score the following essay in these categories: cohesion, syntax, vocabulary, phraseology, grammar, conventions. \n",
    "    Return a JSON object with scores between 1.0 and 5.0 is 0.5 increments. \"\"\"\n",
    "    EXAMPLE_PREFIX = f\"\"\"Here is an example essay followed by scores: \"\"\"\n",
    "    SCORED_ESSAY_PREFIX = f\"\"\"Essay to score: \"\"\"\n",
    "    CATEGORIES = categories\n",
    "    #CATEGORIES = ['cohesion', 'syntax', 'vocabulary', 'phraseology', 'grammar', 'conventions']\n",
    "\n",
    "    prompt = INSTRUCTIONS\n",
    "\n",
    "    for e_ind, example in enumerate(example_essays):\n",
    "        prompt += EXAMPLE_PREFIX\n",
    "        prompt += example\n",
    "\n",
    "        scores = \" Score: \"\n",
    "        for s_ind, score in enumerate(example_scores[e_ind]):\n",
    "            scores = scores + CATEGORIES[s_ind] + \": \" + str(score) + \", \"\n",
    "        \n",
    "        prompt += scores\n",
    "    \n",
    "    prompt += SCORED_ESSAY_PREFIX\n",
    "    prompt += scored_essay\n",
    "\n",
    "    return prompt"
   ]
  },
  {
   "cell_type": "code",
   "execution_count": 16,
   "metadata": {},
   "outputs": [
    {
     "name": "stdout",
     "output_type": "stream",
     "text": [
      "Score the following essay in these categories: cohesion, syntax, vocabulary, phraseology, grammar, conventions. \n",
      "    Return a JSON object with scores between 1.0 and 5.0 is 0.5 increments. Here is an example essay followed by scores: Imagine someone that you know, that is trying to show you what maturity Score: cohesion: 1.0, syntax: 2.0, vocabulary: 3.0, phraseology: 4.0, grammar: 5.0, Here is an example essay followed by scores: They say that conserving energy and resources, some buissness have a four day Score: cohesion: 1.5, syntax: 2.5, vocabulary: 3.5, phraseology: 4.5, grammar: 5.0, Essay to score:  Once, I walked down the empty street during midnight. \n"
     ]
    }
   ],
   "source": [
    "test_essay1 = f\"\"\" Once, I walked down the empty street during midnight. \"\"\"\n",
    "example_1 = f\"\"\"Imagine someone that you know, that is trying to show you what maturity\"\"\"\n",
    "example_2 = f\"\"\"They say that conserving energy and resources, some buissness have a four day\"\"\"\n",
    "scores = [[1.0, 2.0, 3.0, 4.0, 5.0], [1.5, 2.5, 3.5, 4.5, 5.0]]\n",
    "prompt = generate_prompt(test_essay1, [example_1, example_2], scores)\n",
    "print(prompt)"
   ]
  },
  {
   "cell_type": "code",
   "execution_count": 18,
   "metadata": {},
   "outputs": [],
   "source": [
    "client = OpenAI(\n",
    "    api_key=os.environ.get(\"OPENAI_API_KEY\")\n",
    ")\n",
    "\n",
    "def get_completion(prompt, model=\"gpt-3.5-turbo\"):\n",
    "\n",
    "    chat_completion = client.chat.completions.create(\n",
    "        messages=[\n",
    "            {\n",
    "                \"role\": \"user\",\n",
    "                \"content\": prompt,\n",
    "            }\n",
    "        ],\n",
    "        model=model,\n",
    "    )\n",
    "\n",
    "    return chat_completion"
   ]
  }
 ],
 "metadata": {
  "kernelspec": {
   "display_name": "env",
   "language": "python",
   "name": "python3"
  },
  "language_info": {
   "codemirror_mode": {
    "name": "ipython",
    "version": 3
   },
   "file_extension": ".py",
   "mimetype": "text/x-python",
   "name": "python",
   "nbconvert_exporter": "python",
   "pygments_lexer": "ipython3",
   "version": "3.10.6"
  }
 },
 "nbformat": 4,
 "nbformat_minor": 2
}
